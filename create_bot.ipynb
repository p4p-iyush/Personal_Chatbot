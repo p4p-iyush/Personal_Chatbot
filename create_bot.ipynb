{
 "cells": [
  {
   "cell_type": "code",
   "execution_count": 4,
   "metadata": {},
   "outputs": [],
   "source": [
    "from langchain.document_loaders import TextLoader\n",
    "from langchain.text_splitter import CharacterTextSplitter\n",
    "from langchain_community.vectorstores import FAISS\n",
    "from langchain_cohere.embeddings import CohereEmbeddings\n",
    "from langchain_cohere import ChatCohere\n",
    "from langchain.prompts import PromptTemplate\n",
    "from langchain.schema.runnable import RunnableMap, RunnablePassthrough\n",
    "\n",
    "COHERE_API_KEY = \"CbMbyOexiMGw6GZ5Jzx99suZx7lkstwnWspnUwRu\"\n",
    "file_path = r'data/base.txt'\n",
    "loader = TextLoader(\"data/base.txt\")\n",
    "pages_pdf = loader.load()\n",
    "\n",
    "for i in pages_pdf:\n",
    "    i.page_content = ' '.join(i.page_content.split())\n",
    "\n",
    "char_splitter = CharacterTextSplitter(separator=\".\",chunk_size=400,chunk_overlap=0)\n",
    "pages_char_split = char_splitter.split_documents(pages_pdf)\n",
    "\n",
    "embeddings = CohereEmbeddings(\n",
    "    cohere_api_key=COHERE_API_KEY,\n",
    "    model=\"embed-english-v3.0\",\n",
    "    )\n",
    "\n",
    "vectorstore = FAISS.from_documents(pages_char_split, embeddings)\n",
    "\n",
    "\n",
    "# save the vector store :\n",
    "vectorstore.save_local(\"retriever_store\")"
   ]
  },
  {
   "cell_type": "code",
   "execution_count": 2,
   "metadata": {},
   "outputs": [
    {
     "name": "stdout",
     "output_type": "stream",
     "text": [
      "Requirement already satisfied: faiss-cpu in c:\\users\\jhade\\appdata\\local\\programs\\python\\python310\\lib\\site-packages (1.10.0)\n",
      "Requirement already satisfied: numpy<3.0,>=1.25.0 in c:\\users\\jhade\\appdata\\local\\programs\\python\\python310\\lib\\site-packages (from faiss-cpu) (1.26.4)\n",
      "Requirement already satisfied: packaging in c:\\users\\jhade\\appdata\\local\\programs\\python\\python310\\lib\\site-packages (from faiss-cpu) (24.2)\n",
      "Note: you may need to restart the kernel to use updated packages.\n"
     ]
    },
    {
     "name": "stderr",
     "output_type": "stream",
     "text": [
      "\n",
      "[notice] A new release of pip is available: 25.0 -> 25.0.1\n",
      "[notice] To update, run: python.exe -m pip install --upgrade pip\n"
     ]
    }
   ],
   "source": [
    "%pip install faiss-cpu"
   ]
  },
  {
   "cell_type": "code",
   "execution_count": null,
   "metadata": {},
   "outputs": [],
   "source": []
  }
 ],
 "metadata": {
  "kernelspec": {
   "display_name": "Python 3",
   "language": "python",
   "name": "python3"
  },
  "language_info": {
   "codemirror_mode": {
    "name": "ipython",
    "version": 3
   },
   "file_extension": ".py",
   "mimetype": "text/x-python",
   "name": "python",
   "nbconvert_exporter": "python",
   "pygments_lexer": "ipython3",
   "version": "3.10.10"
  }
 },
 "nbformat": 4,
 "nbformat_minor": 2
}
